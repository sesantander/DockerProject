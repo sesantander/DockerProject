{
 "cells": [
  {
   "cell_type": "code",
   "execution_count": 1,
   "metadata": {},
   "outputs": [
    {
     "name": "stdout",
     "output_type": "stream",
     "text": [
      "Collecting mysql-connector-python\n",
      "  Using cached mysql_connector_python-8.0.22-cp38-cp38-manylinux1_x86_64.whl (18.0 MB)\n",
      "Requirement already satisfied: protobuf>=3.0.0 in /usr/local/lib/python3.8/dist-packages (from mysql-connector-python) (3.14.0)\n",
      "Requirement already satisfied: six>=1.9 in /usr/local/lib/python3.8/dist-packages (from protobuf>=3.0.0->mysql-connector-python) (1.15.0)\n",
      "Installing collected packages: mysql-connector-python\n",
      "Successfully installed mysql-connector-python-8.0.22\n",
      "Note: you may need to restart the kernel to use updated packages.\n"
     ]
    }
   ],
   "source": [
    "pip install mysql-connector-python\n"
   ]
  },
  {
   "cell_type": "code",
   "execution_count": 2,
   "metadata": {},
   "outputs": [
    {
     "ename": "ModuleNotFoundError",
     "evalue": "No module named 'mysql'",
     "output_type": "error",
     "traceback": [
      "\u001b[0;31m---------------------------------------------------------------------------\u001b[0m",
      "\u001b[0;31mModuleNotFoundError\u001b[0m                       Traceback (most recent call last)",
      "\u001b[0;32m<ipython-input-2-3c103590922d>\u001b[0m in \u001b[0;36m<module>\u001b[0;34m\u001b[0m\n\u001b[1;32m      1\u001b[0m \u001b[0;32mimport\u001b[0m \u001b[0mos\u001b[0m\u001b[0;34m\u001b[0m\u001b[0;34m\u001b[0m\u001b[0m\n\u001b[0;32m----> 2\u001b[0;31m \u001b[0;32mimport\u001b[0m \u001b[0mmysql\u001b[0m\u001b[0;34m.\u001b[0m\u001b[0mconnector\u001b[0m\u001b[0;34m\u001b[0m\u001b[0;34m\u001b[0m\u001b[0m\n\u001b[0m\u001b[1;32m      3\u001b[0m \u001b[0;32mimport\u001b[0m \u001b[0mpandas\u001b[0m \u001b[0;32mas\u001b[0m \u001b[0mpd\u001b[0m\u001b[0;34m\u001b[0m\u001b[0;34m\u001b[0m\u001b[0m\n\u001b[1;32m      4\u001b[0m \u001b[0;32mimport\u001b[0m \u001b[0mnumpy\u001b[0m \u001b[0;32mas\u001b[0m \u001b[0mnp\u001b[0m\u001b[0;34m\u001b[0m\u001b[0;34m\u001b[0m\u001b[0m\n\u001b[1;32m      5\u001b[0m \u001b[0;32mimport\u001b[0m \u001b[0mmatplotlib\u001b[0m\u001b[0;34m.\u001b[0m\u001b[0mpyplot\u001b[0m \u001b[0;32mas\u001b[0m \u001b[0mplt\u001b[0m\u001b[0;34m\u001b[0m\u001b[0;34m\u001b[0m\u001b[0m\n",
      "\u001b[0;31mModuleNotFoundError\u001b[0m: No module named 'mysql'"
     ]
    }
   ],
   "source": [
    "import os\n",
    "import mysql.connector\n",
    "import pandas as pd\n",
    "import numpy as np\n",
    "import matplotlib.pyplot as plt\n",
    "import seaborn as sns\n",
    "import plotly.express as px\n",
    "%matplotlib inline"
   ]
  },
  {
   "cell_type": "code",
   "execution_count": null,
   "metadata": {},
   "outputs": [],
   "source": [
    "connection = mysql.connector.connect(user='root', password='secret',\n",
    "                              host='10.5.0.5',\n",
    "                              database='covid')"
   ]
  },
  {
   "cell_type": "code",
   "execution_count": null,
   "metadata": {},
   "outputs": [],
   "source": [
    "data = pd.read_sql_query('SELECT * FROM covid.casos',connection)\n",
    "data.head(6)"
   ]
  },
  {
   "cell_type": "code",
   "execution_count": null,
   "metadata": {},
   "outputs": [],
   "source": [
    "edadmayor = (data['edad'] >= 55) & (data['edad'] <= 95)\n",
    "edadmedia = (data['edad'] >= 24) & (data['edad'] < 55)\n",
    "edadmenor = (data['edad'] >= 1) & (data['edad'] < 24)\n",
    "\n",
    "data.loc[edadmayor,'RangoEdad'] = 'edadmayor'\n",
    "data.loc[edadmedia,'RangoEdad'] = 'edadmedia'\n",
    "data.loc[edadmenor,'RangoEdad'] = 'edadmenor'\n",
    "data.head()"
   ]
  },
  {
   "cell_type": "code",
   "execution_count": null,
   "metadata": {},
   "outputs": [],
   "source": [
    "alldepartamentos=np.array(data['departamento'].unique())\n",
    "\n",
    "numeros=np.arange(start=1, stop=28, step=1)\n",
    "\n",
    "index=0\n",
    "arraydptos = np.zeros(27)\n",
    "for i in alldepartamentos:\n",
    "    temp=data[data['departamento']==i]\n",
    "    arraydptos[index] =temp.shape[0];\n",
    "    index=index+1;\n",
    "\n",
    "arraydptos2=np.array(arraydptos)\n",
    "\n",
    "columns = ['Departamentos'] \n",
    "\n",
    "dfdptos = pd.DataFrame(data=alldepartamentos ,index=numeros, columns=columns) \n",
    "\n",
    "\n",
    "dfdptos[\"Total casos\"]=arraydptos2\n"
   ]
  },
  {
   "cell_type": "code",
   "execution_count": null,
   "metadata": {},
   "outputs": [],
   "source": [
    " \n",
    "fig = px.pie(dfdptos, values=\"Total casos\", names=\"Departamentos\") \n",
    "fig.show()"
   ]
  },
  {
   "cell_type": "code",
   "execution_count": null,
   "metadata": {},
   "outputs": [],
   "source": [
    "columns = ['Casos'] \n",
    "data3=data[data['recuperado']==\"Recuperado\"]\n",
    "\n",
    "dfrecu = pd.DataFrame(data=data3.shape,columns=columns) \n",
    "dfrecu[\"Estado\"]=['Recuperado','Fallecido']\n",
    "\n",
    "fig = px.pie(dfrecu, values=\"Casos\", names=\"Estado\") \n",
    "fig.show()\n"
   ]
  },
  {
   "cell_type": "code",
   "execution_count": null,
   "metadata": {},
   "outputs": [],
   "source": [
    "columns = ['Casos'] \n",
    "x1=data[data['RangoEdad']==\"edadmayor\"].shape[0]\n",
    "x2=data[data['RangoEdad']==\"edadmedia\"].shape[0]\n",
    "x3=data[data['RangoEdad']==\"edadmenor\"].shape[0]\n",
    "\n",
    "\n",
    "datar = {'Casos':  [x1, x2, x3]}\n",
    "\n",
    "\n",
    "dran = pd.DataFrame(data=datar,columns=columns) \n",
    "dran[\"Rango Edad\"]=['Personas Mayores[>55]', 'Personas Adultas[>25]',' Personas Jovenes [25<]']\n",
    "\n",
    "\n",
    "fig = px.pie(dran, values=\"Casos\", names=\"Rango Edad\") \n",
    "fig.show()"
   ]
  },
  {
   "cell_type": "code",
   "execution_count": null,
   "metadata": {},
   "outputs": [],
   "source": [
    "data.drop(data.index[data['sexo'] == \"m\"], inplace = True)\n",
    "fig = px.histogram(data, x=\"sexo\") \n",
    "fig.show()"
   ]
  },
  {
   "cell_type": "code",
   "execution_count": null,
   "metadata": {},
   "outputs": [],
   "source": [
    "columns = ['Casos'] \n",
    "x1=data[data['contagio']==\"Importado\"].shape[0]\n",
    "x2=data[data['contagio']==\"Relacionado\"].shape[0]\n",
    "x3=data[data['contagio']==\"En estudio\"].shape[0]\n",
    "\n",
    "\n",
    "datar = {'Casos':  [x1, x2, x3]}\n",
    "\n",
    "\n",
    "dcontagio = pd.DataFrame(data=datar,columns=columns) \n",
    "dcontagio[\"Fuente Contagio\"]=['Importado', 'Relacionado','En estudio']\n",
    "\n",
    "\n",
    "fig = px.pie(dcontagio, values=\"Casos\", names=\"Fuente Contagio\") \n",
    "fig.show()"
   ]
  },
  {
   "cell_type": "code",
   "execution_count": null,
   "metadata": {},
   "outputs": [],
   "source": []
  }
 ],
 "metadata": {
  "kernelspec": {
   "display_name": "Python 3",
   "language": "python",
   "name": "python3"
  },
  "language_info": {
   "codemirror_mode": {
    "name": "ipython",
    "version": 3
   },
   "file_extension": ".py",
   "mimetype": "text/x-python",
   "name": "python",
   "nbconvert_exporter": "python",
   "pygments_lexer": "ipython3",
   "version": "3.8.5"
  }
 },
 "nbformat": 4,
 "nbformat_minor": 4
}
